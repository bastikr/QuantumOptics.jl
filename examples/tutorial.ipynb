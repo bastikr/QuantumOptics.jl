{
 "cells": [
  {
   "cell_type": "markdown",
   "metadata": {},
   "source": [
    "*This notebook can be found on* [github](https://github.com/bastikr/QuantumOptics.jl/blob/master/examples/tutorial.ipynb)\n",
    "# Tutorial\n",
    "In this tutorial we will step through the common tasks necessary to simulate a quantum system. At each step links will provided to documentation and examples that explain the topic in more detail."
   ]
  },
  {
   "cell_type": "markdown",
   "metadata": {},
   "source": [
    "In order to use the **QuantumOptics.jl** library it has to be loaded into the current workspace."
   ]
  },
  {
   "cell_type": "code",
   "execution_count": null,
   "metadata": {
    "collapsed": false
   },
   "outputs": [],
   "source": [
    "using QuantumOptics"
   ]
  },
  {
   "cell_type": "markdown",
   "metadata": {},
   "source": [
    "### Bases\n",
    "The first step is always to define a suitable basis for the quantum system under consideration. For example a Fock basis can be used to describe a field mode. It takes an Integer as argument which specifies the photon number cutoff."
   ]
  },
  {
   "cell_type": "code",
   "execution_count": null,
   "metadata": {
    "collapsed": true
   },
   "outputs": [],
   "source": [
    "b = FockBasis(20);"
   ]
  },
  {
   "cell_type": "markdown",
   "metadata": {},
   "source": [
    "Many quantum systems are already implemented:\n",
    "* Fock bases\n",
    "* Spins\n",
    "* Particles\n",
    "* N-level systems\n",
    "* Many-body systems"
   ]
  },
  {
   "cell_type": "markdown",
   "metadata": {},
   "source": [
    "### States and Operators\n",
    "Functions that create the typical operators and states in these bases are provided."
   ]
  },
  {
   "cell_type": "code",
   "execution_count": null,
   "metadata": {
    "collapsed": false
   },
   "outputs": [],
   "source": [
    "a = destroy(b)\n",
    "at = create(b)\n",
    "\n",
    "alpha = 1.5\n",
    "psi = coherentstate(b, alpha);"
   ]
  },
  {
   "cell_type": "markdown",
   "metadata": {},
   "source": [
    "They can be combined in all the expected ways."
   ]
  },
  {
   "cell_type": "code",
   "execution_count": null,
   "metadata": {
    "collapsed": false
   },
   "outputs": [],
   "source": [
    "dpsi = -1im*(a + at)*psi;"
   ]
  },
  {
   "cell_type": "markdown",
   "metadata": {},
   "source": [
    "The **dagger()** function can be used to transform a ket state into a bra state which for example can be used to create a density operator"
   ]
  },
  {
   "cell_type": "code",
   "execution_count": null,
   "metadata": {
    "collapsed": true
   },
   "outputs": [],
   "source": [
    "rho = psi ⊗ dagger(psi);"
   ]
  },
  {
   "cell_type": "markdown",
   "metadata": {},
   "source": [
    " or to calculate expectation values."
   ]
  },
  {
   "cell_type": "code",
   "execution_count": null,
   "metadata": {
    "collapsed": false
   },
   "outputs": [],
   "source": [
    "println(dagger(psi)*a*psi)"
   ]
  },
  {
   "cell_type": "markdown",
   "metadata": {},
   "source": [
    "Alternatively. the **expect()** function can be used."
   ]
  },
  {
   "cell_type": "code",
   "execution_count": null,
   "metadata": {
    "collapsed": false
   },
   "outputs": [],
   "source": [
    "println(expect(a, psi))"
   ]
  },
  {
   "cell_type": "markdown",
   "metadata": {},
   "source": [
    "## Composite systems"
   ]
  },
  {
   "cell_type": "markdown",
   "metadata": {},
   "source": [
    "Most interesting quantum systems consist of several different parts, for example two spins coupled to a cavity mode."
   ]
  },
  {
   "cell_type": "code",
   "execution_count": null,
   "metadata": {
    "collapsed": false
   },
   "outputs": [],
   "source": [
    "ω_atom = 2\n",
    "ω_field = 1\n",
    "\n",
    "# 2 level atom described as spin\n",
    "b_spin = SpinBasis(1//2)\n",
    "sp = sigmap(b_spin)\n",
    "sm = sigmam(b_spin)\n",
    "\n",
    "H_atom = ω_atom*sp*sm\n",
    "\n",
    "# Use a Fock basis with a maximum of 20 photons to model a cavity mode\n",
    "b_fock = FockBasis(20)\n",
    "a = destroy(b_fock)\n",
    "at = create(b_fock)\n",
    "n = number(b_fock)\n",
    "\n",
    "H_field = ω_field*n;"
   ]
  },
  {
   "cell_type": "markdown",
   "metadata": {},
   "source": [
    "Combining operators from those two systems can be done with the **tensor()** function or with the equivalent $\\otimes$ operator."
   ]
  },
  {
   "cell_type": "code",
   "execution_count": null,
   "metadata": {
    "collapsed": false
   },
   "outputs": [],
   "source": [
    "Ω = 1\n",
    "H_int = Ω*(a ⊗ sp + at ⊗ sm);"
   ]
  },
  {
   "cell_type": "markdown",
   "metadata": {},
   "source": [
    "To extend the single system Hamiltonians $H_{atom}$ and $H_{spin}$ to the composite system Hilbert space, one possibility is to combine them whith identity operators from the oposite sub-system."
   ]
  },
  {
   "cell_type": "code",
   "execution_count": null,
   "metadata": {
    "collapsed": false
   },
   "outputs": [],
   "source": [
    "I_field = identityoperator(b_fock)\n",
    "I_atom = identityoperator(b_spin)\n",
    "\n",
    "H_atom_ = I_field ⊗ H_atom\n",
    "H_field_ = I_atom ⊗ H_field;"
   ]
  },
  {
   "cell_type": "markdown",
   "metadata": {},
   "source": [
    "However, especially for larger systems this can become tedious and it's more convenient to use the **embed()** function."
   ]
  },
  {
   "cell_type": "code",
   "execution_count": null,
   "metadata": {
    "collapsed": false
   },
   "outputs": [],
   "source": [
    "b = b_fock ⊗ b_spin # Basis of composite system\n",
    "\n",
    "H = embed(b, 1, H_field) + embed(b, 2, H_atom) + H_int;"
   ]
  },
  {
   "cell_type": "markdown",
   "metadata": {},
   "source": [
    "Creating composite states works completely the same."
   ]
  },
  {
   "cell_type": "code",
   "execution_count": null,
   "metadata": {
    "collapsed": false
   },
   "outputs": [],
   "source": [
    "ψ = fockstate(b_fock, 2) ⊗ spinup(b_spin);"
   ]
  },
  {
   "cell_type": "markdown",
   "metadata": {},
   "source": [
    "## Time evolution"
   ]
  },
  {
   "cell_type": "markdown",
   "metadata": {},
   "source": [
    "Several different types of time evolution are implemented in **QuantumOptics.jl**\n",
    "* schroedinger\n",
    "* master\n",
    "* mcwf\n",
    "\n",
    "All of them share a very similar interface so that changing from one to another is mostly done by changing the function name:\n",
    "\n",
    "    schroedinger(T, psi0, H)\n",
    "    master(T, psi0/rho0, H, J)\n",
    "    mcwf(T, psi0, H, J)\n",
    "\n",
    "The all return two vectors `tout` and `states`."
   ]
  },
  {
   "cell_type": "code",
   "execution_count": null,
   "metadata": {
    "collapsed": true
   },
   "outputs": [],
   "source": []
  }
 ],
 "metadata": {
  "kernelspec": {
   "display_name": "Julia 0.5.0",
   "language": "julia",
   "name": "julia-0.5"
  },
  "language_info": {
   "file_extension": ".jl",
   "mimetype": "application/julia",
   "name": "julia",
   "version": "0.5.1"
  }
 },
 "nbformat": 4,
 "nbformat_minor": 2
}
