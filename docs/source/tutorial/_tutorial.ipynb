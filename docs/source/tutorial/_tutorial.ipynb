{
 "cells": [
  {
   "cell_type": "markdown",
   "metadata": {
    "deletable": true,
    "editable": true
   },
   "source": [
    "*This notebook can be found on* [github](https://github.com/bastikr/QuantumOptics.jl/blob/master/docs/tutorial.ipynb)\n",
    "\n",
    "# Tutorial\n",
    "In this tutorial we will step through the common tasks necessary to simulate a quantum system. At each step links will provided to documentation and examples that explain the topic in more detail."
   ]
  },
  {
   "cell_type": "markdown",
   "metadata": {
    "deletable": true,
    "editable": true
   },
   "source": [
    "In order to use the **QuantumOptics.jl** library it has to be loaded into the current workspace."
   ]
  },
  {
   "cell_type": "code",
   "execution_count": null,
   "metadata": {
    "collapsed": false,
    "deletable": true,
    "editable": true
   },
   "outputs": [],
   "source": [
    "using QuantumOptics"
   ]
  },
  {
   "cell_type": "markdown",
   "metadata": {
    "deletable": true,
    "editable": true
   },
   "source": [
    "## Bases\n",
    "The first step is always to define a suitable basis for the quantum system under consideration. For example a Fock basis can be used to describe a field mode. It takes an Integer as argument which specifies the photon number cutoff."
   ]
  },
  {
   "cell_type": "code",
   "execution_count": null,
   "metadata": {
    "collapsed": true,
    "deletable": true,
    "editable": true
   },
   "outputs": [],
   "source": [
    "b = FockBasis(20);"
   ]
  },
  {
   "cell_type": "markdown",
   "metadata": {
    "deletable": true,
    "editable": true
   },
   "source": [
    "Many quantum systems are already implemented:\n",
    "\n",
    "* [Spins](spin.html)\n",
    "* Fock bases _`section-spin`\n",
    "* Particles\n",
    "* N-level systems\n",
    "* Many-body systems"
   ]
  },
  {
   "cell_type": "markdown",
   "metadata": {
    "deletable": true,
    "editable": true
   },
   "source": [
    "## States and Operators\n",
    "Functions that create the typical operators and states in these bases are provided."
   ]
  },
  {
   "cell_type": "code",
   "execution_count": null,
   "metadata": {
    "collapsed": false,
    "deletable": true,
    "editable": true
   },
   "outputs": [],
   "source": [
    "a = destroy(b)\n",
    "at = create(b)\n",
    "\n",
    "alpha = 1.5\n",
    "psi = coherentstate(b, alpha);"
   ]
  },
  {
   "cell_type": "markdown",
   "metadata": {
    "deletable": true,
    "editable": true
   },
   "source": [
    "They can be combined in all the expected ways."
   ]
  },
  {
   "cell_type": "code",
   "execution_count": null,
   "metadata": {
    "collapsed": false,
    "deletable": true,
    "editable": true
   },
   "outputs": [],
   "source": [
    "dpsi = -1im*(a + at)*psi;"
   ]
  },
  {
   "cell_type": "markdown",
   "metadata": {
    "deletable": true,
    "editable": true
   },
   "source": [
    "The **dagger()** function can be used to transform a ket state into a bra state which for example can be used to create a density operator"
   ]
  },
  {
   "cell_type": "code",
   "execution_count": null,
   "metadata": {
    "collapsed": true,
    "deletable": true,
    "editable": true
   },
   "outputs": [],
   "source": [
    "rho = psi ⊗ dagger(psi);"
   ]
  },
  {
   "cell_type": "markdown",
   "metadata": {
    "deletable": true,
    "editable": true
   },
   "source": [
    " or to calculate expectation values."
   ]
  },
  {
   "cell_type": "code",
   "execution_count": null,
   "metadata": {
    "collapsed": false,
    "deletable": true,
    "editable": true
   },
   "outputs": [],
   "source": [
    "println(dagger(psi)*a*psi)"
   ]
  },
  {
   "cell_type": "markdown",
   "metadata": {
    "deletable": true,
    "editable": true
   },
   "source": [
    "Alternatively. the **expect()** function can be used."
   ]
  },
  {
   "cell_type": "code",
   "execution_count": null,
   "metadata": {
    "collapsed": false,
    "deletable": true,
    "editable": true
   },
   "outputs": [],
   "source": [
    "println(expect(a, psi))"
   ]
  },
  {
   "cell_type": "markdown",
   "metadata": {
    "deletable": true,
    "editable": true
   },
   "source": [
    "## Composite systems"
   ]
  },
  {
   "cell_type": "markdown",
   "metadata": {
    "deletable": true,
    "editable": true
   },
   "source": [
    "Most interesting quantum systems consist of several different parts, for example two spins coupled to a cavity mode."
   ]
  },
  {
   "cell_type": "code",
   "execution_count": null,
   "metadata": {
    "collapsed": false,
    "deletable": true,
    "editable": true
   },
   "outputs": [],
   "source": [
    "ω_atom = 2\n",
    "ω_field = 1\n",
    "\n",
    "# 2 level atom described as spin\n",
    "b_spin = SpinBasis(1//2)\n",
    "sp = sigmap(b_spin)\n",
    "sm = sigmam(b_spin)\n",
    "\n",
    "H_atom = ω_atom*sp*sm\n",
    "\n",
    "# Use a Fock basis with a maximum of 20 photons to model a cavity mode\n",
    "b_fock = FockBasis(20)\n",
    "a = destroy(b_fock)\n",
    "at = create(b_fock)\n",
    "n = number(b_fock)\n",
    "\n",
    "H_field = ω_field*n;"
   ]
  },
  {
   "cell_type": "markdown",
   "metadata": {
    "deletable": true,
    "editable": true
   },
   "source": [
    "Combining operators from those two systems can be done with the **tensor()** function or with the equivalent $\\otimes$ operator."
   ]
  },
  {
   "cell_type": "code",
   "execution_count": null,
   "metadata": {
    "collapsed": false,
    "deletable": true,
    "editable": true
   },
   "outputs": [],
   "source": [
    "Ω = 1\n",
    "H_int = Ω*(a ⊗ sp + at ⊗ sm);"
   ]
  },
  {
   "cell_type": "markdown",
   "metadata": {
    "deletable": true,
    "editable": true
   },
   "source": [
    "To extend the single system Hamiltonians $H_{atom}$ and $H_{spin}$ to the composite system Hilbert space, one possibility is to combine them whith identity operators from the oposite sub-system."
   ]
  },
  {
   "cell_type": "code",
   "execution_count": null,
   "metadata": {
    "collapsed": false,
    "deletable": true,
    "editable": true
   },
   "outputs": [],
   "source": [
    "I_field = identityoperator(b_fock)\n",
    "I_atom = identityoperator(b_spin)\n",
    "\n",
    "H_atom_ = I_field ⊗ H_atom\n",
    "H_field_ = I_atom ⊗ H_field;"
   ]
  },
  {
   "cell_type": "markdown",
   "metadata": {
    "deletable": true,
    "editable": true
   },
   "source": [
    "However, especially for larger systems this can become tedious and it's more convenient to use the **embed()** function."
   ]
  },
  {
   "cell_type": "code",
   "execution_count": null,
   "metadata": {
    "collapsed": false,
    "deletable": true,
    "editable": true
   },
   "outputs": [],
   "source": [
    "b = b_fock ⊗ b_spin # Basis of composite system\n",
    "\n",
    "H = embed(b, 1, H_field) + embed(b, 2, H_atom) + H_int;"
   ]
  },
  {
   "cell_type": "markdown",
   "metadata": {
    "deletable": true,
    "editable": true
   },
   "source": [
    "Creating composite states works completely the same."
   ]
  },
  {
   "cell_type": "code",
   "execution_count": null,
   "metadata": {
    "collapsed": false,
    "deletable": true,
    "editable": true
   },
   "outputs": [],
   "source": [
    "ψ0 = fockstate(b_fock, 1) ⊗ spindown(b_spin);"
   ]
  },
  {
   "cell_type": "markdown",
   "metadata": {
    "deletable": true,
    "editable": true
   },
   "source": [
    "## Time evolution\n",
    "Several different types of time evolution are implemented in **QuantumOptics.jl**\n",
    "* schroedinger\n",
    "* master\n",
    "* mcwf\n",
    "\n",
    "All of them share a very similar interface so that changing from one to another is mostly done by changing the function name:\n",
    "\n",
    "    schroedinger(T, psi0, H)\n",
    "    master(T, psi0/rho0, H, J)\n",
    "    mcwf(T, psi0, H, J)\n",
    "\n",
    "They all return two vectors `tout` and `states`.\n",
    "\n",
    "Let's now analyze the dynamics of the system according to the\n",
    "Schrödinger equation."
   ]
  },
  {
   "cell_type": "code",
   "execution_count": null,
   "metadata": {
    "collapsed": false,
    "deletable": true,
    "editable": true
   },
   "outputs": [],
   "source": [
    "T = [0:0.05:5;]\n",
    "tout, ψt = timeevolution.schroedinger(T, ψ0, H);"
   ]
  },
  {
   "cell_type": "markdown",
   "metadata": {
    "deletable": true,
    "editable": true
   },
   "source": [
    "Adding photon loss to the cavity by introducing a jump operator :math:`a` means that the system is an open quantum system and its time evolution is then described by a master equation."
   ]
  },
  {
   "cell_type": "code",
   "execution_count": null,
   "metadata": {
    "collapsed": true
   },
   "outputs": [],
   "source": [
    "κ = 1.\n",
    "J = [embed(b, 1, a)]\n",
    "tout, ρt = timeevolution.master(T, ψ0, H, J; Gamma=[κ]);"
   ]
  },
  {
   "cell_type": "markdown",
   "metadata": {},
   "source": [
    "Alternatively, one can use the MCWF method to analyze the time evolution\n",
    "of the system. Physically, it can be interpreted as an experimental\n",
    "setup where every photon leaving the cavity is meassured by a photon\n",
    "counter, thereby projecting the system onto the state\n",
    "$| \\psi\\rangle \\rightarrow a |\\psi\\rangle$. This leads to a\n",
    "coherent time evolution according to a schroedinger equation interrupted\n",
    "by jumps at certain random points in time."
   ]
  },
  {
   "cell_type": "code",
   "execution_count": null,
   "metadata": {
    "collapsed": true
   },
   "outputs": [],
   "source": [
    "tout, ψt_mcwf = timeevolution.mcwf(T, ψ0, H, J; seed=UInt(0),\n",
    "                                   display_beforeevent=true,\n",
    "                                   display_afterevent=true);"
   ]
  },
  {
   "cell_type": "markdown",
   "metadata": {},
   "source": [
    "The results can be visualized using for example matplotlib."
   ]
  },
  {
   "cell_type": "code",
   "execution_count": null,
   "metadata": {
    "collapsed": false,
    "deletable": true,
    "editable": true
   },
   "outputs": [],
   "source": [
    "using PyPlot\n",
    "\n",
    "figure(figsize=[10, 3])\n",
    "\n",
    "subplot(1, 2, 1)\n",
    "xlabel(\"Time\")\n",
    "ylabel(L\"$\\langle |e\\rangle \\langle e| \\rangle$\")\n",
    "xlim(0, 5)\n",
    "ylim(0, 1)\n",
    "plot(T, expect(2, sp*sm, ψt), label=\"Schrödinger\")\n",
    "plot(T, expect(2, sp*sm, ρt), label=\"Master\")\n",
    "plot(tout, expect(2, sp*sm, ψt_mcwf), label=\"MCWF\")\n",
    "legend()\n",
    "\n",
    "subplot(1, 2, 2)\n",
    "xlabel(\"Time\")\n",
    "ylabel(L\"$\\langle n \\rangle$\")\n",
    "xlim(0, 5)\n",
    "ylim(0, 1)\n",
    "plot(T, expect(1, n, ψt), label=\"Schrödinger\")\n",
    "plot(T, expect(1, n, ρt), label=\"Master\")\n",
    "plot(tout, expect(1, n, ψt_mcwf), label=\"MCWF\")\n",
    "legend();"
   ]
  },
  {
   "cell_type": "markdown",
   "metadata": {},
   "source": [
    "In the statistical average the MCWF time evolution is equaivalent to the\n",
    "time evolution according to the master equation."
   ]
  },
  {
   "cell_type": "code",
   "execution_count": null,
   "metadata": {
    "collapsed": false,
    "deletable": true,
    "editable": true
   },
   "outputs": [],
   "source": [
    "Ntrajectories = 10\n",
    "\n",
    "exp_n = zeros(Float64, length(T))\n",
    "exp_e = zeros(Float64, length(T))\n",
    "\n",
    "function fout(t, psi)\n",
    "    i = findfirst(T, t)\n",
    "    N = norm(psi)\n",
    "    exp_e[i] += real(expect(2, sp*sm, normalize(psi)))\n",
    "    exp_n[i] += real(expect(1, n, normalize(psi)))\n",
    "end\n",
    "\n",
    "srand(0)\n",
    "for i=1:Ntrajectories\n",
    "    timeevolution.mcwf(T, ψ0, H, J; fout=fout)\n",
    "end\n",
    "\n",
    "figure(figsize=[10, 3])\n",
    "\n",
    "subplot(1, 2, 1)\n",
    "xlabel(\"Time\")\n",
    "ylabel(L\"$\\langle |e\\rangle \\langle e| \\rangle$\")\n",
    "plot(T, expect(2, sp*sm, ρt), label=\"Master\")\n",
    "plot(T, exp_e/Ntrajectories, label=L\"$\\langle \\mathrm{MCWF} \\rangle$\")\n",
    "legend()\n",
    "\n",
    "subplot(1, 2, 2)\n",
    "xlabel(\"Time\")\n",
    "ylabel(L\"$\\langle n \\rangle$\")\n",
    "plot(T, expect(1, n, ρt), label=\"Master\")\n",
    "plot(T, exp_n/Ntrajectories, label=L\"$\\langle \\mathrm{MCWF} \\rangle$\")\n",
    "legend();"
   ]
  },
  {
   "cell_type": "code",
   "execution_count": null,
   "metadata": {
    "collapsed": true,
    "deletable": true,
    "editable": true
   },
   "outputs": [],
   "source": []
  }
 ],
 "metadata": {
  "kernelspec": {
   "display_name": "Julia 0.5.1",
   "language": "julia",
   "name": "julia-0.5"
  },
  "language_info": {
   "file_extension": ".jl",
   "mimetype": "application/julia",
   "name": "julia",
   "version": "0.5.1"
  }
 },
 "nbformat": 4,
 "nbformat_minor": 2
}
